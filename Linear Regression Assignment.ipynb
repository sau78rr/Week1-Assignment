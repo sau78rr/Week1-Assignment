{
 "cells": [
  {
   "cell_type": "code",
   "execution_count": 27,
   "id": "20e4f28a",
   "metadata": {},
   "outputs": [],
   "source": [
    "import numpy as np\n",
    "import pandas as pd\n",
    "import matplotlib.pyplot as plt\n",
    "from sklearn.preprocessing import LabelEncoder\n",
    "import seaborn as sns\n",
    "# Aim is to predict the marks of students of the test data"
   ]
  },
  {
   "cell_type": "code",
   "execution_count": 88,
   "id": "8444b01a",
   "metadata": {},
   "outputs": [
    {
     "name": "stdout",
     "output_type": "stream",
     "text": [
      "printing x_train after doing the feature changing \n",
      " [[0 1 2 ... 6 18 118]\n",
      " [1 1 2 ... 7 19 107]\n",
      " [1 1 3 ... 5 18 108]\n",
      " ...\n",
      " [1 1 2 ... 5 17 123]\n",
      " [1 0 1 ... 8 17 104]\n",
      " [1 1 1 ... 6 18 128]]\n"
     ]
    }
   ],
   "source": [
    "# Use the file namd 'training data' to train the model\n",
    "\n",
    "data = pd.read_excel('Training_data.xlsx')\n",
    "x_train = np.array(data.iloc[:,0:8])\n",
    "y_train = np.array(data.iloc[:,8]).reshape(-1,1)\n",
    "# print(y_train)\n",
    "# Try plotting y_train with different features\n",
    "# To get an idea whether to add some features or not\n",
    "# Add some features if required in x_train\n",
    "\n",
    "# Also do label encoding for features not represented in numbers\n",
    "# refer the link if not know : https://youtu.be/589nCGeWG1w?si=t2Wa7LgbUOO4RooM\n",
    "\n",
    "\n",
    "\n",
    "def feature_changing(x_train):\n",
    "   # Label encoding for categorical features\n",
    "    label_encoder=LabelEncoder()\n",
    "    x_train[:,0]=label_encoder.fit_transform(x_train[:,0])\n",
    "    x_train[:,1]=label_encoder.fit_transform(x_train[:,1])\n",
    "    return x_train\n",
    "\n",
    "\n",
    "x_train = feature_changing(x_train)\n",
    "print(\"printing x_train after doing the feature changing \\n\",x_train)\n"
   ]
  },
  {
   "cell_type": "code",
   "execution_count": 89,
   "id": "5e326bde",
   "metadata": {},
   "outputs": [],
   "source": [
    "def z_score(x_train):\n",
    "\n",
    "  # ---------\n",
    "    # write the code for feature scaling here\n",
    "    # Your code here\n",
    "  # ---------\n",
    "    x_mean = np.mean(x_train, axis=0)\n",
    "    x_std = np.std(x_train, axis=0)\n",
    "    \n",
    "    # Apply Z-score normalization\n",
    "    x_train_scaled = (x_train - x_mean) / x_std\n",
    "\n",
    "    return x_train_scaled,x_std,x_mean"
   ]
  },
  {
   "cell_type": "code",
   "execution_count": 90,
   "id": "3b47adc6",
   "metadata": {},
   "outputs": [],
   "source": [
    "def cost(x_train, y_train, w, b):\n",
    "    # Number of training examples\n",
    "    m = x_train.shape[0]\n",
    "    \n",
    "    # Compute the predictions\n",
    "    predictions = np.dot(x_train, w) + b\n",
    "    \n",
    "    # Compute the Mean Squared Error (MSE)\n",
    "    loss = np.sum((predictions - y_train) ** 2) / (2 * m)\n",
    "    \n",
    "    return loss"
   ]
  },
  {
   "cell_type": "code",
   "execution_count": 91,
   "id": "29e7256d",
   "metadata": {},
   "outputs": [],
   "source": [
    "def gradient_descent(x_train,y_train,w,b):\n",
    "\n",
    "    m=x_train.shape[0]\n",
    "    predictions = np.dot(x_train, w) + b\n",
    "    errors = predictions - y_train\n",
    "    learning_rate=0.5\n",
    "    w_gradient = (1/m) * np.dot(x_train.T, errors)\n",
    "    b_gradient = (1/m) * np.sum(errors)\n",
    "    max_grad = 1.0\n",
    "    w_gradient = np.clip(w_gradient, -max_grad, max_grad)\n",
    "    b_gradient = np.clip(b_gradient, -max_grad, max_grad)\n",
    "\n",
    "    w = w - learning_rate * w_gradient\n",
    "    b = b - learning_rate * b_gradient\n",
    "\n",
    "    return w, b"
   ]
  },
  {
   "cell_type": "code",
   "execution_count": 92,
   "id": "6a53ce43",
   "metadata": {},
   "outputs": [
    {
     "name": "stdout",
     "output_type": "stream",
     "text": [
      "Congratulations, your accuracy is 100.0%\n"
     ]
    }
   ],
   "source": [
    "x_train = x_train.astype(np.float64)\n",
    "x_train,x_std,x_mean = z_score(x_train)\n",
    "\n",
    "np.random.seed(2147483647)\n",
    "w = np.random.randn(x_train.shape[1],1)\n",
    "b = np.random.randn(1)\n",
    "\n",
    "old_cost = 0\n",
    "\n",
    "while abs(old_cost - cost(x_train,y_train,w,b))>0.00001:\n",
    "  old_cost = cost(x_train,y_train,w,b)\n",
    "  w,b = gradient_descent(x_train,y_train,w,b)\n",
    "\n",
    "x_predict = pd.read_excel('Test_data.xlsx').iloc[:,:8].to_numpy()\n",
    "x_predict = feature_changing(x_predict)\n",
    "x_predict = (x_predict - x_mean)/x_std\n",
    "ans = pd.read_excel('Test_data.xlsx').iloc[:,8].to_numpy()\n",
    "\n",
    "y_predict = np.dot(x_predict,w) + b\n",
    "\n",
    "accuracy = 0\n",
    "for dim in range(len(ans)):\n",
    "    if abs(y_predict[dim]-ans[dim])<0.5: # do not change the tolerance as you'll be checked on +- 0.5 error only\n",
    "        accuracy += 1\n",
    "accuracy = round(accuracy*100/200.0,2)\n",
    "ok = 'Congratulations' if accuracy>95 else 'Optimization required'\n",
    "print(f\"{ok}, your accuracy is {accuracy}%\")"
   ]
  }
 ],
 "metadata": {
  "kernelspec": {
   "display_name": "Python 3 (ipykernel)",
   "language": "python",
   "name": "python3"
  },
  "language_info": {
   "codemirror_mode": {
    "name": "ipython",
    "version": 3
   },
   "file_extension": ".py",
   "mimetype": "text/x-python",
   "name": "python",
   "nbconvert_exporter": "python",
   "pygments_lexer": "ipython3",
   "version": "3.11.5"
  }
 },
 "nbformat": 4,
 "nbformat_minor": 5
}
